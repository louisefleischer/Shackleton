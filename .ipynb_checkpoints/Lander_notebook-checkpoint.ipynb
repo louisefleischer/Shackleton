{
 "cells": [
  {
   "cell_type": "code",
   "execution_count": 79,
   "metadata": {},
   "outputs": [
    {
     "name": "stderr",
     "output_type": "stream",
     "text": [
      "WARNING: using Plots.arrow in module Main conflicts with an existing identifier.\n",
      "WARNING: using Plots.savefig in module Main conflicts with an existing identifier.\n"
     ]
    }
   ],
   "source": [
    "#Working with the notebook is mostly relevant for plots\n",
    "using PyPlot\n",
    "using Plots"
   ]
  },
  {
   "cell_type": "code",
   "execution_count": 73,
   "metadata": {
    "scrolled": true
   },
   "outputs": [
    {
     "name": "stdout",
     "output_type": "stream",
     "text": [
      "The lander has arrived at x=64 and z=26 in 74 iterations\n",
      "Measurements made : 100\n",
      "Safe landing!\n"
     ]
    }
   ],
   "source": [
    "include(\"simulationv2.jl\")"
   ]
  },
  {
   "cell_type": "code",
   "execution_count": 74,
   "metadata": {
    "scrolled": false
   },
   "outputs": [
    {
     "name": "stdout",
     "output_type": "stream",
     "text": [
      " "
     ]
    },
    {
     "data": {
      "image/png": "[encoded data removed]",
      "text/plain": [
       "PyPlot.Figure(PyObject <matplotlib.figure.Figure object at 0x000000002D11CF98>)"
      ]
     },
     "metadata": {},
     "output_type": "display_data"
    },
    {
     "name": "stdout",
     "output_type": "stream",
     "text": [
      "\n"
     ]
    }
   ],
   "source": [
    "hold(true)\n",
    "plot(x_path'-.5,z_path'+.5,color=\"#FF0000\")\n",
    "bar(collect(1:MAP_SIZE)-1, true_map,color=\"#A4A4A4\",align=\"edge\",width=1,alpha=1)\n",
    "println(\" \")\n",
    "grid(\"on\")"
   ]
  },
  {
   "cell_type": "code",
   "execution_count": 76,
   "metadata": {},
   "outputs": [
    {
     "ename": "LoadError",
     "evalue": "\u001b[91mMethodError: no method matching PlotlyJS.Plot(::Array{Array{Pair{String,Any},1},1}, ::Array{Pair{String,String},1})\u001b[0m\nClosest candidates are:\n  PlotlyJS.Plot(\u001b[91m::AbstractArray{T<:Union{AbstractString, Date, Number, Symbol},1}\u001b[39m, ::AbstractArray{T,1} where T) where T<:Union{AbstractString, Date, Number, Symbol} at C:\\Users\\pierr\\.julia\\v0.6\\PlotlyJS\\src\\convenience_api.jl:56\n  PlotlyJS.Plot(\u001b[91m::AbstractArray{T<:Union{AbstractString, Date, Number, Symbol},1}\u001b[39m, ::AbstractArray{T,1} where T, \u001b[91m::PlotlyJS.Layout\u001b[39m; kind, style, kwargs...) where T<:Union{AbstractString, Date, Number, Symbol} at C:\\Users\\pierr\\.julia\\v0.6\\PlotlyJS\\src\\convenience_api.jl:56\n  PlotlyJS.Plot(::AbstractArray{T<:(AbstractArray{T,1} where T),1}, \u001b[91m::AbstractArray{T,2} where T\u001b[39m) where T<:(AbstractArray{T,1} where T) at C:\\Users\\pierr\\.julia\\v0.6\\PlotlyJS\\src\\convenience_api.jl:68\n  ...\u001b[39m",
     "output_type": "error",
     "traceback": [
      "\u001b[91mMethodError: no method matching PlotlyJS.Plot(::Array{Array{Pair{String,Any},1},1}, ::Array{Pair{String,String},1})\u001b[0m\nClosest candidates are:\n  PlotlyJS.Plot(\u001b[91m::AbstractArray{T<:Union{AbstractString, Date, Number, Symbol},1}\u001b[39m, ::AbstractArray{T,1} where T) where T<:Union{AbstractString, Date, Number, Symbol} at C:\\Users\\pierr\\.julia\\v0.6\\PlotlyJS\\src\\convenience_api.jl:56\n  PlotlyJS.Plot(\u001b[91m::AbstractArray{T<:Union{AbstractString, Date, Number, Symbol},1}\u001b[39m, ::AbstractArray{T,1} where T, \u001b[91m::PlotlyJS.Layout\u001b[39m; kind, style, kwargs...) where T<:Union{AbstractString, Date, Number, Symbol} at C:\\Users\\pierr\\.julia\\v0.6\\PlotlyJS\\src\\convenience_api.jl:56\n  PlotlyJS.Plot(::AbstractArray{T<:(AbstractArray{T,1} where T),1}, \u001b[91m::AbstractArray{T,2} where T\u001b[39m) where T<:(AbstractArray{T,1} where T) at C:\\Users\\pierr\\.julia\\v0.6\\PlotlyJS\\src\\convenience_api.jl:68\n  ...\u001b[39m",
      "",
      "Stacktrace:",
      " [1] \u001b[1m#plot#36\u001b[22m\u001b[22m\u001b[1m(\u001b[22m\u001b[22m::Array{Any,1}, ::Function, ::Array{Array{Pair{String,Any},1},1}, ::Vararg{Any,N} where N\u001b[1m)\u001b[22m\u001b[22m at \u001b[1mC:\\Users\\pierr\\.julia\\v0.6\\PlotlyJS\\src\\display.jl:76\u001b[22m\u001b[22m",
      " [2] \u001b[1mplot\u001b[22m\u001b[22m\u001b[1m(\u001b[22m\u001b[22m::Array{Array{Pair{String,Any},1},1}, ::Vararg{Any,N} where N\u001b[1m)\u001b[22m\u001b[22m at \u001b[1mC:\\Users\\pierr\\.julia\\v0.6\\PlotlyJS\\src\\display.jl:76\u001b[22m\u001b[22m",
      " [3] \u001b[1minclude_string\u001b[22m\u001b[22m\u001b[1m(\u001b[22m\u001b[22m::String, ::String\u001b[1m)\u001b[22m\u001b[22m at \u001b[1m.\\loading.jl:515\u001b[22m\u001b[22m"
     ]
    }
   ],
   "source": [
    "data = [\n",
    "  [\n",
    "    \"z\" => U_init,\n",
    "    \"type\" => \"heatmap\"\n",
    "  ]\n",
    "]\n",
    "response = Plotly.plot(data, [\"filename\" => \"basic-heatmap\", \"fileopt\" => \"overwrite\"])\n",
    "plot_url = response[\"url\"]"
   ]
  },
  {
   "cell_type": "code",
   "execution_count": 80,
   "metadata": {},
   "outputs": [
    {
     "name": "stderr",
     "output_type": "stream",
     "text": [
      "WARNING: using Plots.pie in module Main conflicts with an existing identifier.\n",
      "WARNING: using Plots.ohlc in module Main conflicts with an existing identifier.\n"
     ]
    },
    {
     "ename": "LoadError",
     "evalue": "\u001b[91mMethodError: no method matching heatmap(::Array{Float64,2})\u001b[0m\nClosest candidates are:\n  heatmap(; kwargs...) at C:\\Users\\pierr\\.julia\\v0.6\\PlotlyJS\\src\\api.jl:26\n  heatmap(\u001b[91m::Associative\u001b[39m; kwargs...) at C:\\Users\\pierr\\.julia\\v0.6\\PlotlyJS\\src\\api.jl:27\n  heatmap(\u001b[91m::DataFrames.AbstractDataFrame\u001b[39m; kwargs...) at C:\\Users\\pierr\\.julia\\v0.6\\PlotlyJS\\src\\api.jl:28\u001b[39m",
     "output_type": "error",
     "traceback": [
      "\u001b[91mMethodError: no method matching heatmap(::Array{Float64,2})\u001b[0m\nClosest candidates are:\n  heatmap(; kwargs...) at C:\\Users\\pierr\\.julia\\v0.6\\PlotlyJS\\src\\api.jl:26\n  heatmap(\u001b[91m::Associative\u001b[39m; kwargs...) at C:\\Users\\pierr\\.julia\\v0.6\\PlotlyJS\\src\\api.jl:27\n  heatmap(\u001b[91m::DataFrames.AbstractDataFrame\u001b[39m; kwargs...) at C:\\Users\\pierr\\.julia\\v0.6\\PlotlyJS\\src\\api.jl:28\u001b[39m",
      "",
      "Stacktrace:",
      " [1] \u001b[1minclude_string\u001b[22m\u001b[22m\u001b[1m(\u001b[22m\u001b[22m::String, ::String\u001b[1m)\u001b[22m\u001b[22m at \u001b[1m.\\loading.jl:515\u001b[22m\u001b[22m"
     ]
    },
    {
     "name": "stderr",
     "output_type": "stream",
     "text": [
      "WARNING: using Plots.scatter in module Main conflicts with an existing identifier.\n",
      "WARNING: using Plots.contour in module Main conflicts with an existing identifier.\n",
      "WARNING: using Plots.grid in module Main conflicts with an existing identifier.\n",
      "WARNING: using Plots.bar in module Main conflicts with an existing identifier.\n",
      "WARNING: using Plots.quiver in module Main conflicts with an existing identifier.\n",
      "WARNING: using Plots.hexbin in module Main conflicts with an existing identifier.\n",
      "WARNING: using Plots.contourf in module Main conflicts with an existing identifier.\n",
      "WARNING: using Plots.boxplot in module Main conflicts with an existing identifier.\n",
      "WARNING: using Plots.scatter3d in module Main conflicts with an existing identifier.\n",
      "WARNING: using Plots.heatmap in module Main conflicts with an existing identifier.\n",
      "WARNING: using Plots.vline in module Main conflicts with an existing identifier.\n",
      "WARNING: using Plots.twinx in module Main conflicts with an existing identifier.\n",
      "WARNING: using Plots.histogram in module Main conflicts with an existing identifier.\n",
      "WARNING: using Plots.histogram2d in module Main conflicts with an existing identifier.\n",
      "WARNING: using Plots.barh in module Main conflicts with an existing identifier.\n",
      "WARNING: using Plots.text in module Main conflicts with an existing identifier.\n",
      "WARNING: using Plots.hline in module Main conflicts with an existing identifier.\n",
      "WARNING: using Plots.spy in module Main conflicts with an existing identifier.\n",
      "WARNING: using Plots.surface in module Main conflicts with an existing identifier.\n",
      "WARNING: using Plots.plot in module Main conflicts with an existing identifier.\n",
      "WARNING: using Plots.Shape in module Main conflicts with an existing identifier.\n"
     ]
    }
   ],
   "source": [
    "heatmap(U_init)"
   ]
  },
  {
   "cell_type": "code",
   "execution_count": null,
   "metadata": {
    "collapsed": true
   },
   "outputs": [],
   "source": []
  }
 ],
 "metadata": {
  "kernelspec": {
   "display_name": "Julia 0.6.0",
   "language": "julia",
   "name": "julia-0.6"
  },
  "language_info": {
   "file_extension": ".jl",
   "mimetype": "application/julia",
   "name": "julia",
   "version": "0.6.0"
  }
 },
 "nbformat": 4,
 "nbformat_minor": 2
}
