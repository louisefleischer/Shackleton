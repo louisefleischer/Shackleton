{
 "cells": [
  {
   "cell_type": "code",
   "execution_count": 20,
   "metadata": {
    "scrolled": false
   },
   "outputs": [
    {
     "data": {
      "image/png": "[encoded data removed]",
      "text/plain": [
       "PyPlot.Figure(PyObject <matplotlib.figure.Figure object at 0x00000000466CABE0>)"
      ]
     },
     "metadata": {},
     "output_type": "display_data"
    },
    {
     "ename": "LoadError",
     "evalue": "\u001b[91mArgumentError: invalid index: 0.5\u001b[39m",
     "output_type": "error",
     "traceback": [
      "\u001b[91mArgumentError: invalid index: 0.5\u001b[39m",
      "",
      "Stacktrace:",
      " [1] \u001b[1mupdate_belief\u001b[22m\u001b[22m\u001b[1m(\u001b[22m\u001b[22m::Array{Float64,2}, ::String\u001b[1m)\u001b[22m\u001b[22m at \u001b[1mC:\\Users\\pierr\\OneDrive\\Documents\\[Stanford]\\AA228 - DMU\\Lander\\Shackleton\\fct_obsAndBel.jl:80\u001b[22m\u001b[22m",
      " [2] \u001b[1mmacro expansion\u001b[22m\u001b[22m at \u001b[1m.\\In[20]:44\u001b[22m\u001b[22m [inlined]",
      " [3] \u001b[1manonymous\u001b[22m\u001b[22m at \u001b[1m.\\<missing>:?\u001b[22m\u001b[22m",
      " [4] \u001b[1minclude_string\u001b[22m\u001b[22m\u001b[1m(\u001b[22m\u001b[22m::String, ::String\u001b[1m)\u001b[22m\u001b[22m at \u001b[1m.\\loading.jl:515\u001b[22m\u001b[22m"
     ]
    }
   ],
   "source": [
    "using PyPlot\n",
    "include(\"structures.jl\")\n",
    "include(\"fct_obsAndBel.jl\")\n",
    "include(\"fct_MDP.jl\")\n",
    "include(\"fct_map.jl\")\n",
    "include(\"params.jl\")\n",
    "println(\" \")\n",
    "\n",
    "#initialization\n",
    "MAP_SIZE = 100\n",
    "#srand(1234)\n",
    "true_map=build_map(25)\n",
    "#true_map_old = vcat([1, 2, 3, 3, 3, 4, 5, 6, 6, 5],\n",
    "#    collect(ceil.(linspace(1,50,(100-38)))),\n",
    "#    [4, 3, 2, 1, 1, 1, 2, 3, 4, 5, 6, 5, 4, 6, 10, 11, 15, 22, 30, 30, 30, 31, 25, 20, 15, 1,1, 1])\n",
    "\n",
    "#true_map = collect(linspace(1,50,100))\n",
    "\n",
    "# Initialize\n",
    "# Lander is at altitude 100, terrain is set to zero altitude, its bounds are from zero to 50 m high. \n",
    "lander= Lander(50,100)\n",
    "observation_map = zeros(MAP_SIZE,1)-1 #if no observation, set to -1\n",
    "\n",
    "\n",
    "# build a belief map with heights and a confidence value\n",
    "belief_map = zeros(MAP_SIZE,2)\n",
    "x_path = [lander.x]\n",
    "z_path = [lander.z]\n",
    "\n",
    "belief_map=hcat(true_map,ones(100,1))\n",
    "U_init=update_utility(belief_map,lander,gamma,R_newobs)\n",
    "iteration = 0\n",
    "U_curr=zeros(100,100)\n",
    "fig = figure()\n",
    "\n",
    "\n",
    "while lander.z>(true_map[lander.x]) && iteration<110\n",
    "    if iteration%obs_lag==0\n",
    "        # observe\n",
    "        o = make_observation(true_map, lander)\n",
    "        observation_map[o.x] = o.h\n",
    "\n",
    "        # update your belief\n",
    "        belief_map = update_belief(observation_map, MODEL)\n",
    "        #belief_map=hcat(true_map,ones(100,1))\n",
    "\n",
    "        U_curr=update_utility(belief_map,lander,gamma,R_newobs)\n",
    "        # find flat parts in the belief map (obsolete)\n",
    "        #flat = find_flat(belief_map)\n",
    "    end\n",
    "    # make your decision\n",
    "    opt_action=choose_action(lander.x,lander.z,U_curr)\n",
    "    #println(op_action)\n",
    "    sp=next_state(lander.x,lander.z,opt_action)\n",
    "    xp=sp[1]\n",
    "    zp=sp[2]\n",
    "    lander.x = xp\n",
    "    lander.z = zp\n",
    "\n",
    "    # keep in memory for plotting\n",
    "    x_path = hcat(x_path,[lander.x])\n",
    "    z_path = hcat(z_path,[lander.z])\n",
    "    iteration+=1\n",
    "    #println(iteration)\n",
    "    \n",
    "    hold(true)\n",
    "    PyPlot.plot(x_path'-.5,z_path'-.5,color=\"#000000\")\n",
    "    pcolormesh(U_curr',cmap=\"inferno\")\n",
    "    PyPlot.bar(collect(1:MAP_SIZE)-1, true_map-1,color=\"#000000\",align=\"edge\",width=1,alpha=1)\n",
    "    PyPlot.bar(collect(1:MAP_SIZE)-1, belief_map[:,1]-1,color=\"#778899\",align=\"edge\",width=1,alpha=0.5)\n",
    "    PyPlot.bar(collect(1:MAP_SIZE)-1, max.(0,observation_map[:]-1),color=\"#42f4cb\",align=\"edge\",width=1,alpha=0.5)\n",
    "    colorbar()\n",
    "    sleep(.2)\n",
    "    IJulia.clear_output(true)\n",
    "    display(fig)\n",
    "    clf()\n",
    "end \n",
    "println(\"The lander has arrived at x=\",lander.x,\" and z=\", lander.z,\" in \", iteration, \" iterations\")\n",
    "println(\"Measurements made : \",count(x->x==1,belief_map[:,2]))\n",
    "h1=true_map[lander.x-1]\n",
    "h2=true_map[lander.x]\n",
    "h3=true_map[lander.x+1]\n",
    "\n",
    "if h1==h2 && h2==h3\n",
    "    println(\"Safe landing!\")\n",
    "    else\n",
    "    println(\"Crash! h1=\",h1, \" h2=\",h2, \" h3=\",h3)    \n",
    "end"
   ]
  },
  {
   "cell_type": "code",
   "execution_count": 18,
   "metadata": {},
   "outputs": [
    {
     "data": {
      "text/plain": [
       "64"
      ]
     },
     "execution_count": 18,
     "metadata": {},
     "output_type": "execute_result"
    }
   ],
   "source": [
    "rand(25:75)"
   ]
  },
  {
   "cell_type": "code",
   "execution_count": null,
   "metadata": {
    "collapsed": true
   },
   "outputs": [],
   "source": []
  }
 ],
 "metadata": {
  "kernelspec": {
   "display_name": "Julia 0.6.0",
   "language": "julia",
   "name": "julia-0.6"
  },
  "language_info": {
   "file_extension": ".jl",
   "mimetype": "application/julia",
   "name": "julia",
   "version": "0.6.0"
  }
 },
 "nbformat": 4,
 "nbformat_minor": 2
}
